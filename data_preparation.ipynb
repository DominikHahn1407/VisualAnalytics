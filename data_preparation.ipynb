{
 "cells": [
  {
   "cell_type": "code",
   "execution_count": 1,
   "metadata": {},
   "outputs": [],
   "source": [
    "import pandas as pd"
   ]
  },
  {
   "cell_type": "code",
   "execution_count": 13,
   "metadata": {},
   "outputs": [],
   "source": [
    "metadata = pd.read_csv(\"./data/metadata.csv\")\n",
    "meta_filter = metadata[[\"Channel\", \"Category\"]]\n",
    "meta_filter = meta_filter.drop_duplicates()\n",
    "meta_dict = meta_filter.set_index(\"Channel\")[\"Category\"].to_dict()"
   ]
  },
  {
   "cell_type": "code",
   "execution_count": 14,
   "metadata": {},
   "outputs": [
    {
     "name": "stdout",
     "output_type": "stream",
     "text": [
      "{'3Blue1Brown': 'Science', 'A&E': 'News', 'About To Eat': 'Food', 'Abroad in Japan': 'Blog', 'Austin Evans': 'Tech', 'Barely Sociable': 'Informative', 'BBC News': 'News', 'Bon Appétit': 'Food', 'Brooklyn Nine-Nine': 'Comedy,Entertainment', 'BuzzFeedVideo': 'Entertainment', 'Captain Disillusion': 'Informative', 'Car Throttle': 'Automobile', 'carwow': 'Automobile', 'CDawgVA': 'Blog', 'ChrisFix': 'Automobile', 'CNET': 'Informative', 'Coder Coder': 'Tech,Informative', 'Doctor Who': 'Entertainment', 'Donut Media': 'Automobile', 'Dr. Becky': 'Science', 'DramaAlert': 'Blog', 'Drew Gooden': 'Blog', 'DRIVETRIBE': 'Automobile,Comedy', 'Eater': 'Food', 'ElectroBOOM': 'Science', 'EpicNameBro': 'VideoGames', 'Epicurious': 'Food', 'Fireship': 'Tech', 'First We Feast': 'Food,Entertainment', 'FoodTribe': 'Food', 'gameranx': 'VideoGames', 'Gordon Ramsay': 'Food', 'Hardware Canucks': 'Tech', \"Hell's Kitchen\": 'Food', 'Incognito Mode': 'Blog,Comedy', 'Insider News': 'News', 'Internet Historian': 'Comedy,Informative', 'jacksepticeye': 'VideoGames', 'JCS - Criminal Psychology': 'Informative', 'Joma in NYC': 'Blog', 'Joma Tech': 'Tech,Comedy', 'JRE Clips': 'Blog', 'Key & Peele': 'Comedy', 'Kurzgesagt – In a Nutshell': 'Science', 'LEMMiNO': 'Informative', \"Let's Game It Out\": 'VideoGames', 'LevelCapGaming': 'VideoGames', 'Lex Clips': 'Blog,Science', 'LGR': 'VideoGames', 'Linus Tech Tips': 'Tech', 'Mark Rober': 'Science', 'Markiplier': 'VideoGames', 'Marques Brownlee': 'Tech', 'MrBeast': 'Blog,Entertainment', 'Munchies': 'Food', 'Mythical Kitchen': 'Food', 'NBC News': 'News', 'NileRed': 'Science', 'NowThis News': 'News', 'OverSimplified': 'Comedy,Informative', 'Parks and Recreation': 'Entertainment,Comedy', 'PBS Space Time': 'Science', 'penguinz0': 'Blog,Comedy', \"Sam O'Nella Academy\": 'Informative', 'Screen Junkies': 'Entertainment,Comedy', 'SEA': 'Science', 'Shroud': 'VideoGames', 'Sky News': 'News', 'SmarterEveryDay': 'Science', 'SomeGoodNews': 'News', 'Team Coco': 'Comedy,Entertainment', 'TechLinked': 'Tech,News', 'Techquickie': 'Tech', 'The Daily Show with Trevor Noah': 'News', 'The F Word': 'Food', 'The Graham Norton Show': 'Entertainment,Comedy', 'The Grand Tour': 'Automobile,Comedy', 'The Infographics Show': 'Informative', 'The Office': 'Comedy,Entertainment', 'The Stig': 'Automobile', 'The Try Guys': 'Entertainment,Blog', 'TheStraightPipes': 'Automobile', 'TheWarOwl': 'VideoGames', 'Throttle House': 'Automobile', 'Top Gear': 'Automobile,Comedy', 'Veritasium': 'Science', 'VICE': 'News', 'videogamedunkey': 'VideoGames', 'Vox': 'Informative', 'Vsauce': 'Science', 'Web Dev Simplified': 'Tech'}\n"
     ]
    }
   ],
   "source": [
    "print(meta_dict)"
   ]
  }
 ],
 "metadata": {
  "kernelspec": {
   "display_name": "deep_learning",
   "language": "python",
   "name": "python3"
  },
  "language_info": {
   "codemirror_mode": {
    "name": "ipython",
    "version": 3
   },
   "file_extension": ".py",
   "mimetype": "text/x-python",
   "name": "python",
   "nbconvert_exporter": "python",
   "pygments_lexer": "ipython3",
   "version": "3.9.7"
  },
  "orig_nbformat": 4
 },
 "nbformat": 4,
 "nbformat_minor": 2
}
